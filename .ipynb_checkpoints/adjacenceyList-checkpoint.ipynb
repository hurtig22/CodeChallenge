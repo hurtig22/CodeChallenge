{
 "cells": [
  {
   "cell_type": "markdown",
   "id": "1d9deb74",
   "metadata": {},
   "source": [
    "# Build adjacency list from triangle mesh"
   ]
  },
  {
   "cell_type": "code",
   "execution_count": 27,
   "id": "9937dec0",
   "metadata": {},
   "outputs": [],
   "source": [
    "class Vertex(object):\n",
    "    def __init__(self, key, value):\n",
    "        self.key = key\n",
    "        self.value = value\n",
    "        self.neighbors = {}\n",
    "\n",
    "    def add_neighbor(self, neighbor, value):\n",
    "        self.neighbors[neighbor] = value\n",
    "\n",
    "    def __str__(self):\n",
    "        return '{} neighbors: {}'.format(\n",
    "            self.key,\n",
    "            [x.key for x in self.neighbors]\n",
    "        )\n",
    "\n",
    "    def get_connections(self):\n",
    "        return self.neighbors.keys()\n",
    "\n",
    "    def get_value(self, neighbor):\n",
    "        return self.neighbors[neighbor]"
   ]
  },
  {
   "cell_type": "code",
   "execution_count": 43,
   "id": "16efbd3d",
   "metadata": {},
   "outputs": [],
   "source": [
    "class Graph(object):\n",
    "    def __init__(self):\n",
    "        self.verticies = {}\n",
    "\n",
    "    def add_vertex(self, vertex):\n",
    "        self.verticies[vertex.key] = vertex\n",
    "\n",
    "    def get_vertex(self, key):\n",
    "        try:\n",
    "            return self.verticies[key]\n",
    "        except KeyError:\n",
    "            return None\n",
    "\n",
    "    def __contains__(self, key):\n",
    "        return key in self.verticies\n",
    "\n",
    "    def add_edge(self, from_key, from_value, to_key, to_value):\n",
    "        if from_key not in self.verticies:\n",
    "            self.add_vertex(Vertex(from_key, from_value))\n",
    "        if to_key not in self.verticies:\n",
    "            self.add_vertex(Vertex(to_key, to_value))\n",
    "        self.verticies[from_key].add_neighbor(self.verticies[to_key], to_value)\n",
    "\n",
    "    def get_vertices(self):\n",
    "        return self.verticies.keys()\n",
    "\n",
    "    def __iter__(self):\n",
    "        return iter(self.verticies.values())"
   ]
  },
  {
   "cell_type": "code",
   "execution_count": 56,
   "id": "a0d346b0",
   "metadata": {},
   "outputs": [
    {
     "name": "stdout",
     "output_type": "stream",
     "text": [
      "0 0.2\n",
      "1 0.3\n",
      "2 0.4\n",
      "2 0.4\n",
      "1 0.3\n"
     ]
    }
   ],
   "source": [
    "g = Graph()\n",
    "\n",
    "v = Vertex(0, 0.2)\n",
    "v.add_neighbor(1, 0.3)\n",
    "v.add_neighbor(2, 0.4)\n",
    "g.add_vertex(v)\n",
    "\n",
    "v = Vertex(2, 0.4)\n",
    "v.add_neighbor(1, 0.3)\n",
    "g.add_vertex(v)\n",
    "\n",
    "#g.get_vertices()\n",
    "\n",
    "for node in g.get_vertices():\n",
    "    n = g.get_vertex(node)\n",
    "    print(n.key, n.value)\n",
    "    for neighbor in n.get_connections():\n",
    "        print(neighbor, n.get_value(neighbor))\n"
   ]
  },
  {
   "cell_type": "code",
   "execution_count": 1,
   "id": "64d535fc",
   "metadata": {},
   "outputs": [],
   "source": [
    "class Mesh(object):\n",
    "    def __init__(self):\n",
    "        self.nodes = {}\n",
    "        self.values = {}\n",
    "        self.elements = {}\n",
    "        \n",
    "    def get_nodes(self):\n",
    "        return self.nodes\n",
    "    \n",
    "    def get_values(self):\n",
    "        return self.values\n",
    "    \n",
    "    def get_elements(self):\n",
    "        return self.elements\n"
   ]
  },
  {
   "cell_type": "code",
   "execution_count": null,
   "id": "312775dc",
   "metadata": {},
   "outputs": [],
   "source": [
    "import json\n",
    " \n",
    "# Opening JSON file\n",
    "f = open('mesh.json')\n",
    "#f = open('mesh_x_sin_cos_10000.json')\n",
    "\n",
    "# returns JSON object as\n",
    "# a dictionary\n",
    "data = json.load(f)\n",
    "\n",
    "mesh = Mesh()\n",
    "mesh.nodes = data['nodes']\n",
    "mesh.elements = data['elements']\n",
    "mesh.values = data['values']\n",
    "\n",
    "# Closing file\n",
    "f.close()"
   ]
  }
 ],
 "metadata": {
  "kernelspec": {
   "display_name": "Python 3",
   "language": "python",
   "name": "python3"
  },
  "language_info": {
   "codemirror_mode": {
    "name": "ipython",
    "version": 3
   },
   "file_extension": ".py",
   "mimetype": "text/x-python",
   "name": "python",
   "nbconvert_exporter": "python",
   "pygments_lexer": "ipython3",
   "version": "3.8.10"
  }
 },
 "nbformat": 4,
 "nbformat_minor": 5
}
